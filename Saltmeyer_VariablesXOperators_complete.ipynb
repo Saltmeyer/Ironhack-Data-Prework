{
 "cells": [
  {
   "cell_type": "code",
   "execution_count": 28,
   "id": "2a53c501",
   "metadata": {},
   "outputs": [
    {
     "data": {
      "text/plain": [
       "float"
      ]
     },
     "execution_count": 28,
     "metadata": {},
     "output_type": "execute_result"
    }
   ],
   "source": [
    "# Excercise 1.1\n",
    "x1 = 1.1\n",
    "type(x1)"
   ]
  },
  {
   "cell_type": "code",
   "execution_count": 29,
   "id": "3ed85099",
   "metadata": {},
   "outputs": [
    {
     "data": {
      "text/plain": [
       "str"
      ]
     },
     "execution_count": 29,
     "metadata": {},
     "output_type": "execute_result"
    }
   ],
   "source": [
    "x2 = \"Ironhack\"\n",
    "type(x2)"
   ]
  },
  {
   "cell_type": "code",
   "execution_count": 30,
   "id": "e7f3b366",
   "metadata": {},
   "outputs": [
    {
     "data": {
      "text/plain": [
       "str"
      ]
     },
     "execution_count": 30,
     "metadata": {},
     "output_type": "execute_result"
    }
   ],
   "source": [
    "x3 = \"1.1\"\n",
    "type(x3)"
   ]
  },
  {
   "cell_type": "code",
   "execution_count": 31,
   "id": "0ddf1848",
   "metadata": {},
   "outputs": [
    {
     "data": {
      "text/plain": [
       "bool"
      ]
     },
     "execution_count": 31,
     "metadata": {},
     "output_type": "execute_result"
    }
   ],
   "source": [
    "x4 = True\n",
    "type(x4)"
   ]
  },
  {
   "cell_type": "code",
   "execution_count": 32,
   "id": "0c76e40d",
   "metadata": {},
   "outputs": [
    {
     "data": {
      "text/plain": [
       "str"
      ]
     },
     "execution_count": 32,
     "metadata": {},
     "output_type": "execute_result"
    }
   ],
   "source": [
    "x5 = \"True\"\n",
    "type(x5)"
   ]
  },
  {
   "cell_type": "code",
   "execution_count": 33,
   "id": "0e6ad0ec",
   "metadata": {},
   "outputs": [
    {
     "data": {
      "text/plain": [
       "int"
      ]
     },
     "execution_count": 33,
     "metadata": {},
     "output_type": "execute_result"
    }
   ],
   "source": [
    "x6 = -1\n",
    "type(x6)"
   ]
  },
  {
   "cell_type": "code",
   "execution_count": null,
   "id": "a972e6cb",
   "metadata": {},
   "outputs": [],
   "source": [
    "# Excercise 1.2 : What is the difference between variables x1 and x3?\n",
    "# x1 is a decimal number, i.e. a float whereas x3 is a string as it is encapsulated in quotation marks"
   ]
  },
  {
   "cell_type": "code",
   "execution_count": null,
   "id": "11bdedf1",
   "metadata": {},
   "outputs": [],
   "source": [
    "# Excercise 1.3: What is the difference between variables x4 and x5?\n",
    "# x4 is a boolean whereas x5 is a string as it is encapsulated in quotation marks"
   ]
  },
  {
   "cell_type": "code",
   "execution_count": 2,
   "id": "fcdeb64f",
   "metadata": {},
   "outputs": [
    {
     "name": "stdout",
     "output_type": "stream",
     "text": [
      "Please enter an integer number5\n",
      "5\n"
     ]
    }
   ],
   "source": [
    "# Excercise 2\n",
    "x1 = input(\"Please enter an integer number\")"
   ]
  },
  {
   "cell_type": "code",
   "execution_count": 3,
   "id": "10819078",
   "metadata": {},
   "outputs": [
    {
     "name": "stdout",
     "output_type": "stream",
     "text": [
      "5\n"
     ]
    }
   ],
   "source": [
    "print(x1)"
   ]
  },
  {
   "cell_type": "code",
   "execution_count": 4,
   "id": "e442d063",
   "metadata": {},
   "outputs": [
    {
     "name": "stdout",
     "output_type": "stream",
     "text": [
      "<class 'str'>\n"
     ]
    }
   ],
   "source": [
    "print(type(x1))"
   ]
  },
  {
   "cell_type": "code",
   "execution_count": 5,
   "id": "cbb3a17f",
   "metadata": {},
   "outputs": [],
   "source": [
    "x1 = int(x1)"
   ]
  },
  {
   "cell_type": "code",
   "execution_count": 6,
   "id": "3d1d5010",
   "metadata": {},
   "outputs": [
    {
     "name": "stdout",
     "output_type": "stream",
     "text": [
      "5\n"
     ]
    }
   ],
   "source": [
    "print(x1)"
   ]
  },
  {
   "cell_type": "code",
   "execution_count": 7,
   "id": "162cbc68",
   "metadata": {},
   "outputs": [
    {
     "name": "stdout",
     "output_type": "stream",
     "text": [
      "<class 'int'>\n"
     ]
    }
   ],
   "source": [
    "print(type(x1))"
   ]
  },
  {
   "cell_type": "code",
   "execution_count": 8,
   "id": "f33b81b5",
   "metadata": {},
   "outputs": [
    {
     "name": "stdout",
     "output_type": "stream",
     "text": [
      "Please enter an integer number: 10\n"
     ]
    }
   ],
   "source": [
    "x2 = input(\"Please enter an integer number: \")"
   ]
  },
  {
   "cell_type": "code",
   "execution_count": 9,
   "id": "a1a44651",
   "metadata": {},
   "outputs": [
    {
     "name": "stdout",
     "output_type": "stream",
     "text": [
      "10\n"
     ]
    }
   ],
   "source": [
    "print(x2)"
   ]
  },
  {
   "cell_type": "code",
   "execution_count": 10,
   "id": "abb82f66",
   "metadata": {},
   "outputs": [
    {
     "name": "stdout",
     "output_type": "stream",
     "text": [
      "<class 'str'>\n"
     ]
    }
   ],
   "source": [
    "print(type(x2))"
   ]
  },
  {
   "cell_type": "code",
   "execution_count": 11,
   "id": "5edbb27f",
   "metadata": {},
   "outputs": [],
   "source": [
    "x2 = int(x2)"
   ]
  },
  {
   "cell_type": "code",
   "execution_count": 13,
   "id": "5b3b46f1",
   "metadata": {},
   "outputs": [
    {
     "name": "stdout",
     "output_type": "stream",
     "text": [
      "10\n"
     ]
    }
   ],
   "source": [
    "print(x2)"
   ]
  },
  {
   "cell_type": "code",
   "execution_count": 14,
   "id": "15433dec",
   "metadata": {},
   "outputs": [
    {
     "name": "stdout",
     "output_type": "stream",
     "text": [
      "<class 'int'>\n"
     ]
    }
   ],
   "source": [
    "print(type(x2))"
   ]
  },
  {
   "cell_type": "code",
   "execution_count": 16,
   "id": "ec751344",
   "metadata": {},
   "outputs": [
    {
     "data": {
      "text/plain": [
       "False"
      ]
     },
     "execution_count": 16,
     "metadata": {},
     "output_type": "execute_result"
    }
   ],
   "source": [
    "#Comparing variables\n",
    "x1 == x2"
   ]
  },
  {
   "cell_type": "code",
   "execution_count": 17,
   "id": "47883131",
   "metadata": {},
   "outputs": [
    {
     "data": {
      "text/plain": [
       "False"
      ]
     },
     "execution_count": 17,
     "metadata": {},
     "output_type": "execute_result"
    }
   ],
   "source": [
    "x1 > x2"
   ]
  },
  {
   "cell_type": "code",
   "execution_count": 18,
   "id": "1c83b03d",
   "metadata": {},
   "outputs": [
    {
     "data": {
      "text/plain": [
       "True"
      ]
     },
     "execution_count": 18,
     "metadata": {},
     "output_type": "execute_result"
    }
   ],
   "source": [
    "x2 > x1"
   ]
  },
  {
   "cell_type": "code",
   "execution_count": 19,
   "id": "0abbdf63",
   "metadata": {},
   "outputs": [
    {
     "data": {
      "text/plain": [
       "True"
      ]
     },
     "execution_count": 19,
     "metadata": {},
     "output_type": "execute_result"
    }
   ],
   "source": [
    "x1 != x2"
   ]
  },
  {
   "cell_type": "code",
   "execution_count": 20,
   "id": "db1cc1cf",
   "metadata": {},
   "outputs": [],
   "source": [
    "x3 = x2 - x1"
   ]
  },
  {
   "cell_type": "code",
   "execution_count": 21,
   "id": "40b8632e",
   "metadata": {},
   "outputs": [
    {
     "name": "stdout",
     "output_type": "stream",
     "text": [
      "10\n"
     ]
    }
   ],
   "source": [
    "x1 + x3\n",
    "print(x1 + x3)"
   ]
  },
  {
   "cell_type": "code",
   "execution_count": 25,
   "id": "9f8a64cf",
   "metadata": {},
   "outputs": [],
   "source": [
    "x1 += x3"
   ]
  },
  {
   "cell_type": "code",
   "execution_count": 27,
   "id": "66e7f41e",
   "metadata": {},
   "outputs": [
    {
     "data": {
      "text/plain": [
       "False"
      ]
     },
     "execution_count": 27,
     "metadata": {},
     "output_type": "execute_result"
    }
   ],
   "source": [
    "x1 == x2"
   ]
  },
  {
   "cell_type": "code",
   "execution_count": 37,
   "id": "ec2461a6",
   "metadata": {},
   "outputs": [],
   "source": [
    "import math"
   ]
  },
  {
   "cell_type": "code",
   "execution_count": 38,
   "id": "3adaf0ca",
   "metadata": {},
   "outputs": [
    {
     "data": {
      "text/plain": [
       "148.4131591025766"
      ]
     },
     "execution_count": 38,
     "metadata": {},
     "output_type": "execute_result"
    }
   ],
   "source": [
    "math.exp(5)"
   ]
  },
  {
   "cell_type": "code",
   "execution_count": 39,
   "id": "3766a15f",
   "metadata": {},
   "outputs": [
    {
     "data": {
      "text/plain": [
       "125.0"
      ]
     },
     "execution_count": 39,
     "metadata": {},
     "output_type": "execute_result"
    }
   ],
   "source": [
    "math.pow(5, 3)"
   ]
  },
  {
   "cell_type": "code",
   "execution_count": 40,
   "id": "cafaf60b",
   "metadata": {},
   "outputs": [
    {
     "data": {
      "text/plain": [
       "3.141592653589793"
      ]
     },
     "execution_count": 40,
     "metadata": {},
     "output_type": "execute_result"
    }
   ],
   "source": [
    "math.pi"
   ]
  },
  {
   "cell_type": "code",
   "execution_count": null,
   "id": "7b53a3d5",
   "metadata": {},
   "outputs": [],
   "source": []
  }
 ],
 "metadata": {
  "kernelspec": {
   "display_name": "Python 3",
   "language": "python",
   "name": "python3"
  },
  "language_info": {
   "codemirror_mode": {
    "name": "ipython",
    "version": 3
   },
   "file_extension": ".py",
   "mimetype": "text/x-python",
   "name": "python",
   "nbconvert_exporter": "python",
   "pygments_lexer": "ipython3",
   "version": "3.8.8"
  }
 },
 "nbformat": 4,
 "nbformat_minor": 5
}
