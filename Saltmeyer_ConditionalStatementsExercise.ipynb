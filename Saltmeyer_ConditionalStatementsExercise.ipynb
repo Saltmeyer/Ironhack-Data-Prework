{
 "cells": [
  {
   "cell_type": "code",
   "execution_count": 12,
   "id": "73b86a54",
   "metadata": {},
   "outputs": [
    {
     "name": "stdout",
     "output_type": "stream",
     "text": [
      "Please enter an integer number: 5\n",
      "a is odd\n"
     ]
    }
   ],
   "source": [
    "a = int(input(\"Please enter an integer number: \"))\n",
    "if a == 0:\n",
    "    print(\"a is zero\")\n",
    "elif a % 2 == 0:\n",
    "    print(\"a is even\")\n",
    "else:\n",
    "    print(\"a is odd\")"
   ]
  },
  {
   "cell_type": "code",
   "execution_count": 4,
   "id": "3bce266f",
   "metadata": {},
   "outputs": [
    {
     "name": "stdout",
     "output_type": "stream",
     "text": [
      "Please enter an integer number:-5\n",
      "a is smaller than zero\n"
     ]
    }
   ],
   "source": [
    "a = int(input(\"Please enter an integer number:\"))\n",
    "if a == 0:\n",
    "    print(\"a is equal to zero\")\n",
    "elif a > 0:\n",
    "    print(\"a is larger than zero\")\n",
    "else:\n",
    "    print(\"a is smaller than zero\")"
   ]
  },
  {
   "cell_type": "code",
   "execution_count": 10,
   "id": "f990aa0f",
   "metadata": {},
   "outputs": [
    {
     "name": "stdout",
     "output_type": "stream",
     "text": [
      "Please enter a score between 0 and 100: 85\n",
      "Grade: B\n"
     ]
    }
   ],
   "source": [
    "score = int(input(\"Please enter a score between 0 and 100: \"))\n",
    "if score >= 0 and score < 25:\n",
    "    print(\"Grade: F\") \n",
    "elif score >= 25 and score < 45:\n",
    "    print(\"Grade: E\")\n",
    "elif score >= 45 and score < 60:\n",
    "    print(\"Grade: D\")\n",
    "elif score >= 60 and score < 75:\n",
    "    print(\"Grade: C\")\n",
    "elif score >= 75 and score < 90:\n",
    "    print(\"Grade: B\")\n",
    "else:\n",
    "    print(\"Grade: A\")"
   ]
  },
  {
   "cell_type": "code",
   "execution_count": 19,
   "id": "154a06c1",
   "metadata": {},
   "outputs": [
    {
     "name": "stdout",
     "output_type": "stream",
     "text": [
      "Please enter an integer number: 3\n",
      "a is odd\n"
     ]
    }
   ],
   "source": [
    "a = input(\"Please enter an integer number: \")\n",
    "if a.isdigit():\n",
    "    a = int(a)\n",
    "    if a == 0:\n",
    "        print(\"a is zero\")\n",
    "    elif a %2 == 0:\n",
    "        print(\"a is even\")\n",
    "    else:\n",
    "        print(\"a is odd\")\n",
    "else:\n",
    "    print(\"No integer was entered\")"
   ]
  },
  {
   "cell_type": "code",
   "execution_count": null,
   "id": "18d4a033",
   "metadata": {},
   "outputs": [],
   "source": []
  },
  {
   "cell_type": "code",
   "execution_count": null,
   "id": "b8fc1a2a",
   "metadata": {},
   "outputs": [],
   "source": []
  }
 ],
 "metadata": {
  "kernelspec": {
   "display_name": "Python 3",
   "language": "python",
   "name": "python3"
  },
  "language_info": {
   "codemirror_mode": {
    "name": "ipython",
    "version": 3
   },
   "file_extension": ".py",
   "mimetype": "text/x-python",
   "name": "python",
   "nbconvert_exporter": "python",
   "pygments_lexer": "ipython3",
   "version": "3.8.8"
  }
 },
 "nbformat": 4,
 "nbformat_minor": 5
}
