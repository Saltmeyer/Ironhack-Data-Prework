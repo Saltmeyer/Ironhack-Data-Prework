{
 "cells": [
  {
   "cell_type": "code",
   "execution_count": 28,
   "id": "a3cab825",
   "metadata": {},
   "outputs": [
    {
     "data": {
      "text/plain": [
       "float"
      ]
     },
     "execution_count": 28,
     "metadata": {},
     "output_type": "execute_result"
    }
   ],
   "source": [
    "# Excercise 1.1\n",
    "x1 = 1.1\n",
    "type(x1)"
   ]
  },
  {
   "cell_type": "code",
   "execution_count": 29,
   "id": "5c6b307b",
   "metadata": {},
   "outputs": [
    {
     "data": {
      "text/plain": [
       "str"
      ]
     },
     "execution_count": 29,
     "metadata": {},
     "output_type": "execute_result"
    }
   ],
   "source": [
    "x2 = \"Ironhack\"\n",
    "type(x2)"
   ]
  },
  {
   "cell_type": "code",
   "execution_count": 30,
   "id": "3d100fda",
   "metadata": {},
   "outputs": [
    {
     "data": {
      "text/plain": [
       "str"
      ]
     },
     "execution_count": 30,
     "metadata": {},
     "output_type": "execute_result"
    }
   ],
   "source": [
    "x3 = \"1.1\"\n",
    "type(x3)"
   ]
  },
  {
   "cell_type": "code",
   "execution_count": 31,
   "id": "77e06a36",
   "metadata": {},
   "outputs": [
    {
     "data": {
      "text/plain": [
       "bool"
      ]
     },
     "execution_count": 31,
     "metadata": {},
     "output_type": "execute_result"
    }
   ],
   "source": [
    "x4 = True\n",
    "type(x4)"
   ]
  },
  {
   "cell_type": "code",
   "execution_count": 32,
   "id": "b325361b",
   "metadata": {},
   "outputs": [
    {
     "data": {
      "text/plain": [
       "str"
      ]
     },
     "execution_count": 32,
     "metadata": {},
     "output_type": "execute_result"
    }
   ],
   "source": [
    "x5 = \"True\"\n",
    "type(x5)"
   ]
  },
  {
   "cell_type": "code",
   "execution_count": 33,
   "id": "92ca4122",
   "metadata": {},
   "outputs": [
    {
     "data": {
      "text/plain": [
       "int"
      ]
     },
     "execution_count": 33,
     "metadata": {},
     "output_type": "execute_result"
    }
   ],
   "source": [
    "x6 = -1\n",
    "type(x6)"
   ]
  },
  {
   "cell_type": "code",
   "execution_count": null,
   "id": "4f5b133c",
   "metadata": {},
   "outputs": [],
   "source": [
    "# Excercise 1.2 : What is the difference between variables x1 and x3?\n",
    "# x1 is a decimal number, i.e. a float whereas x3 is a string as it is encapsulated in quotation marks"
   ]
  },
  {
   "cell_type": "code",
   "execution_count": null,
   "id": "ec7f84fa",
   "metadata": {},
   "outputs": [],
   "source": [
    "# Excercise 1.3: What is the difference between variables x4 and x5?\n",
    "# x4 is a boolean whereas x5 is a string as it is encapsulated in quotation marks"
   ]
  },
  {
   "cell_type": "code",
   "execution_count": 2,
   "id": "fa294861",
   "metadata": {},
   "outputs": [
    {
     "name": "stdout",
     "output_type": "stream",
     "text": [
      "Please enter an integer number5\n",
      "5\n"
     ]
    }
   ],
   "source": [
    "# Excercise 2\n",
    "x1 = input(\"Please enter an integer number\")"
   ]
  },
  {
   "cell_type": "code",
   "execution_count": 3,
   "id": "a6754077",
   "metadata": {},
   "outputs": [
    {
     "name": "stdout",
     "output_type": "stream",
     "text": [
      "5\n"
     ]
    }
   ],
   "source": [
    "print(x1)"
   ]
  },
  {
   "cell_type": "code",
   "execution_count": 4,
   "id": "9cfcaf16",
   "metadata": {},
   "outputs": [
    {
     "name": "stdout",
     "output_type": "stream",
     "text": [
      "<class 'str'>\n"
     ]
    }
   ],
   "source": [
    "print(type(x1))"
   ]
  },
  {
   "cell_type": "code",
   "execution_count": 5,
   "id": "80de5f99",
   "metadata": {},
   "outputs": [],
   "source": [
    "x1 = int(x1)"
   ]
  },
  {
   "cell_type": "code",
   "execution_count": 6,
   "id": "0b278630",
   "metadata": {},
   "outputs": [
    {
     "name": "stdout",
     "output_type": "stream",
     "text": [
      "5\n"
     ]
    }
   ],
   "source": [
    "print(x1)"
   ]
  },
  {
   "cell_type": "code",
   "execution_count": 7,
   "id": "bae6f656",
   "metadata": {},
   "outputs": [
    {
     "name": "stdout",
     "output_type": "stream",
     "text": [
      "<class 'int'>\n"
     ]
    }
   ],
   "source": [
    "print(type(x1))"
   ]
  },
  {
   "cell_type": "code",
   "execution_count": 8,
   "id": "ca2eceac",
   "metadata": {},
   "outputs": [
    {
     "name": "stdout",
     "output_type": "stream",
     "text": [
      "Please enter an integer number: 10\n"
     ]
    }
   ],
   "source": [
    "x2 = input(\"Please enter an integer number: \")"
   ]
  },
  {
   "cell_type": "code",
   "execution_count": 9,
   "id": "ea719224",
   "metadata": {},
   "outputs": [
    {
     "name": "stdout",
     "output_type": "stream",
     "text": [
      "10\n"
     ]
    }
   ],
   "source": [
    "print(x2)"
   ]
  },
  {
   "cell_type": "code",
   "execution_count": 10,
   "id": "09b52ba1",
   "metadata": {},
   "outputs": [
    {
     "name": "stdout",
     "output_type": "stream",
     "text": [
      "<class 'str'>\n"
     ]
    }
   ],
   "source": [
    "print(type(x2))"
   ]
  },
  {
   "cell_type": "code",
   "execution_count": 11,
   "id": "024e5935",
   "metadata": {},
   "outputs": [],
   "source": [
    "x2 = int(x2)"
   ]
  },
  {
   "cell_type": "code",
   "execution_count": 13,
   "id": "15e82b70",
   "metadata": {},
   "outputs": [
    {
     "name": "stdout",
     "output_type": "stream",
     "text": [
      "10\n"
     ]
    }
   ],
   "source": [
    "print(x2)"
   ]
  },
  {
   "cell_type": "code",
   "execution_count": 14,
   "id": "4370f6c1",
   "metadata": {},
   "outputs": [
    {
     "name": "stdout",
     "output_type": "stream",
     "text": [
      "<class 'int'>\n"
     ]
    }
   ],
   "source": [
    "print(type(x2))"
   ]
  },
  {
   "cell_type": "code",
   "execution_count": 16,
   "id": "6cd95472",
   "metadata": {},
   "outputs": [
    {
     "data": {
      "text/plain": [
       "False"
      ]
     },
     "execution_count": 16,
     "metadata": {},
     "output_type": "execute_result"
    }
   ],
   "source": [
    "#Comparing variables\n",
    "x1 == x2"
   ]
  },
  {
   "cell_type": "code",
   "execution_count": 17,
   "id": "2e1154c1",
   "metadata": {},
   "outputs": [
    {
     "data": {
      "text/plain": [
       "False"
      ]
     },
     "execution_count": 17,
     "metadata": {},
     "output_type": "execute_result"
    }
   ],
   "source": [
    "x1 > x2"
   ]
  },
  {
   "cell_type": "code",
   "execution_count": 18,
   "id": "5f70d2a5",
   "metadata": {},
   "outputs": [
    {
     "data": {
      "text/plain": [
       "True"
      ]
     },
     "execution_count": 18,
     "metadata": {},
     "output_type": "execute_result"
    }
   ],
   "source": [
    "x2 > x1"
   ]
  },
  {
   "cell_type": "code",
   "execution_count": 19,
   "id": "dfa40452",
   "metadata": {},
   "outputs": [
    {
     "data": {
      "text/plain": [
       "True"
      ]
     },
     "execution_count": 19,
     "metadata": {},
     "output_type": "execute_result"
    }
   ],
   "source": [
    "x1 != x2"
   ]
  },
  {
   "cell_type": "code",
   "execution_count": 20,
   "id": "237944d7",
   "metadata": {},
   "outputs": [],
   "source": [
    "x3 = x2 - x1"
   ]
  },
  {
   "cell_type": "code",
   "execution_count": 21,
   "id": "58fbf65f",
   "metadata": {},
   "outputs": [
    {
     "name": "stdout",
     "output_type": "stream",
     "text": [
      "10\n"
     ]
    }
   ],
   "source": [
    "x1 + x3\n",
    "print(x1 + x3)"
   ]
  },
  {
   "cell_type": "code",
   "execution_count": 25,
   "id": "a6a7a92d",
   "metadata": {},
   "outputs": [],
   "source": [
    "x1 += x3"
   ]
  },
  {
   "cell_type": "code",
   "execution_count": 27,
   "id": "26f77241",
   "metadata": {},
   "outputs": [
    {
     "data": {
      "text/plain": [
       "False"
      ]
     },
     "execution_count": 27,
     "metadata": {},
     "output_type": "execute_result"
    }
   ],
   "source": [
    "x1 == x2"
   ]
  },
  {
   "cell_type": "code",
   "execution_count": null,
   "id": "303b77d8",
   "metadata": {},
   "outputs": [],
   "source": []
  }
 ],
 "metadata": {
  "kernelspec": {
   "display_name": "Python 3",
   "language": "python",
   "name": "python3"
  },
  "language_info": {
   "codemirror_mode": {
    "name": "ipython",
    "version": 3
   },
   "file_extension": ".py",
   "mimetype": "text/x-python",
   "name": "python",
   "nbconvert_exporter": "python",
   "pygments_lexer": "ipython3",
   "version": "3.8.8"
  }
 },
 "nbformat": 4,
 "nbformat_minor": 5
}
